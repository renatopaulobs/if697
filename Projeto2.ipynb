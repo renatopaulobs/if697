{
  "nbformat": 4,
  "nbformat_minor": 0,
  "metadata": {
    "colab": {
      "name": "Projeto2.ipynb",
      "provenance": [],
      "collapsed_sections": []
    },
    "kernelspec": {
      "name": "python3",
      "display_name": "Python 3"
    },
    "language_info": {
      "name": "python"
    }
  },
  "cells": [
    {
      "cell_type": "code",
      "metadata": {
        "colab": {
          "base_uri": "https://localhost:8080/"
        },
        "id": "zT1qw-RIBA8F",
        "outputId": "511d1a72-ae61-4289-bd89-59a2fad12c88"
      },
      "source": [
        "import re\n",
        "import math\n",
        "\n",
        "import seaborn as sns\n",
        "import pandas as pd\n",
        "import matplotlib.pyplot as plt\n",
        "import numpy as np\n",
        "import urllib.request as urllib2\n",
        "\n",
        "!pip install optuna --quiet\n",
        "\n",
        "\n",
        "from scipy import stats\n",
        "from mpl_toolkits.mplot3d import Axes3D\n",
        "from zipfile import ZipFile\n",
        "from io import BytesIO\n",
        "import optuna\n",
        "\n",
        "from sklearn.tree import DecisionTreeClassifier\n",
        "from sklearn.ensemble import RandomForestClassifier\n",
        "from sklearn.svm import SVC\n",
        "from sklearn.model_selection import train_test_split, cross_val_score\n",
        "from sklearn.naive_bayes import GaussianNB\n",
        "from sklearn.metrics import accuracy_score, confusion_matrix\n",
        "from sklearn.neighbors import KNeighborsClassifier\n",
        "from sklearn.neural_network import MLPClassifier\n",
        "\n",
        "!pip install mlflow --quiet\n",
        "get_ipython().system_raw(\"mlflow ui --port 5000 &\")\n",
        "\n",
        "!pip install pyngrok --quiet\n",
        "\n",
        "from pyngrok import ngrok\n",
        "from getpass import getpass\n",
        "\n",
        "# Terminate open tunnels if exist\n",
        "ngrok.kill()\n",
        "\n",
        "\n",
        "# Open an HTTPs tunnel on port 5000 for http://localhost:5000\n",
        "ngrok_tunnel = ngrok.connect(addr=\"5000\", proto=\"http\", bind_tls=True)\n",
        "print(\"MLflow Tracking UI:\", ngrok_tunnel.public_url)\n",
        "\n",
        "import mlflow"
      ],
      "execution_count": 2,
      "outputs": [
        {
          "output_type": "stream",
          "text": [
            "MLflow Tracking UI: https://8f23e022e84d.ngrok.io\n"
          ],
          "name": "stdout"
        }
      ]
    },
    {
      "cell_type": "markdown",
      "metadata": {
        "id": "C46uOvVwFrdu"
      },
      "source": [
        "# **Manage and Load Dataset**"
      ]
    },
    {
      "cell_type": "code",
      "metadata": {
        "colab": {
          "base_uri": "https://localhost:8080/",
          "height": 272
        },
        "id": "3K1ghuryB2Q1",
        "outputId": "b1bc0a73-ee32-448c-d1ed-366e48a91fc6"
      },
      "source": [
        "#Getting zipped file and load csv cities temperature file \n",
        "zipCityTemp = urllib2.urlopen(\"https://raw.githubusercontent.com/renatopaulobs/notes-node/master/city_temperature.zip\").read()\n",
        "file = ZipFile(BytesIO(zipCityTemp))\n",
        "citiesTemp = pd.read_csv(file.open(\"city_temperature.csv\"))\n",
        "\n",
        "#Setting category types in columns there are not numbers(float, int)\n",
        "citiesTemp['Region'] = citiesTemp['Region'].astype('category')\n",
        "citiesTemp['Country'] = citiesTemp['Country'].astype('category')\n",
        "citiesTemp['State'] = citiesTemp['State'].astype('category')\n",
        "citiesTemp['City'] = citiesTemp['City'].astype('category')\n",
        "\n",
        "#removing rows duplicated\n",
        "citiesTemp = citiesTemp.drop_duplicates()\n",
        "\n",
        "#Remove all -99 avgTemperature occurrency\n",
        "citiesTemp=citiesTemp.drop(citiesTemp[citiesTemp['AvgTemperature']==-99.0].index)\n",
        "\n",
        "#Removing State Column due to a great number of NaN occurrencies 50%\n",
        "citiesTemp = citiesTemp.drop('State',axis=1)\n",
        "\n",
        "#Convert AvgTemperature to Celsius\n",
        "citiesTemp['AvgTemperature'] = (citiesTemp['AvgTemperature'] -32)*(5/9)\n",
        "\n",
        "mapping = {'Africa': 1, 'Asia': 2, 'Australia/South Pacific': 3, 'Europe': 4, 'Middle East': 5, 'North America': 6, 'South/Central America & Carribean': 7}\n",
        "citiesTemp = citiesTemp.replace({'Region': mapping})\n",
        "\n",
        "citiesTemp.head()"
      ],
      "execution_count": 3,
      "outputs": [
        {
          "output_type": "stream",
          "text": [
            "/usr/local/lib/python3.7/dist-packages/IPython/core/interactiveshell.py:2718: DtypeWarning:\n",
            "\n",
            "Columns (2) have mixed types.Specify dtype option on import or set low_memory=False.\n",
            "\n"
          ],
          "name": "stderr"
        },
        {
          "output_type": "execute_result",
          "data": {
            "text/html": [
              "<div>\n",
              "<style scoped>\n",
              "    .dataframe tbody tr th:only-of-type {\n",
              "        vertical-align: middle;\n",
              "    }\n",
              "\n",
              "    .dataframe tbody tr th {\n",
              "        vertical-align: top;\n",
              "    }\n",
              "\n",
              "    .dataframe thead th {\n",
              "        text-align: right;\n",
              "    }\n",
              "</style>\n",
              "<table border=\"1\" class=\"dataframe\">\n",
              "  <thead>\n",
              "    <tr style=\"text-align: right;\">\n",
              "      <th></th>\n",
              "      <th>Region</th>\n",
              "      <th>Country</th>\n",
              "      <th>City</th>\n",
              "      <th>Month</th>\n",
              "      <th>Day</th>\n",
              "      <th>Year</th>\n",
              "      <th>AvgTemperature</th>\n",
              "    </tr>\n",
              "  </thead>\n",
              "  <tbody>\n",
              "    <tr>\n",
              "      <th>1239</th>\n",
              "      <td>1</td>\n",
              "      <td>Burundi</td>\n",
              "      <td>Bujumbura</td>\n",
              "      <td>7</td>\n",
              "      <td>18</td>\n",
              "      <td>2003</td>\n",
              "      <td>27.388889</td>\n",
              "    </tr>\n",
              "    <tr>\n",
              "      <th>1431</th>\n",
              "      <td>1</td>\n",
              "      <td>Burundi</td>\n",
              "      <td>Bujumbura</td>\n",
              "      <td>1</td>\n",
              "      <td>26</td>\n",
              "      <td>2004</td>\n",
              "      <td>13.388889</td>\n",
              "    </tr>\n",
              "    <tr>\n",
              "      <th>1444</th>\n",
              "      <td>1</td>\n",
              "      <td>Burundi</td>\n",
              "      <td>Bujumbura</td>\n",
              "      <td>2</td>\n",
              "      <td>8</td>\n",
              "      <td>2004</td>\n",
              "      <td>26.777778</td>\n",
              "    </tr>\n",
              "    <tr>\n",
              "      <th>1445</th>\n",
              "      <td>1</td>\n",
              "      <td>Burundi</td>\n",
              "      <td>Bujumbura</td>\n",
              "      <td>2</td>\n",
              "      <td>9</td>\n",
              "      <td>2004</td>\n",
              "      <td>16.500000</td>\n",
              "    </tr>\n",
              "    <tr>\n",
              "      <th>1446</th>\n",
              "      <td>1</td>\n",
              "      <td>Burundi</td>\n",
              "      <td>Bujumbura</td>\n",
              "      <td>2</td>\n",
              "      <td>10</td>\n",
              "      <td>2004</td>\n",
              "      <td>20.555556</td>\n",
              "    </tr>\n",
              "  </tbody>\n",
              "</table>\n",
              "</div>"
            ],
            "text/plain": [
              "      Region  Country       City  Month  Day  Year  AvgTemperature\n",
              "1239       1  Burundi  Bujumbura      7   18  2003       27.388889\n",
              "1431       1  Burundi  Bujumbura      1   26  2004       13.388889\n",
              "1444       1  Burundi  Bujumbura      2    8  2004       26.777778\n",
              "1445       1  Burundi  Bujumbura      2    9  2004       16.500000\n",
              "1446       1  Burundi  Bujumbura      2   10  2004       20.555556"
            ]
          },
          "metadata": {
            "tags": []
          },
          "execution_count": 3
        }
      ]
    },
    {
      "cell_type": "markdown",
      "metadata": {
        "id": "2lDhUWYBO4-P"
      },
      "source": [
        "# **Separating Prediction / Test Data**"
      ]
    },
    {
      "cell_type": "code",
      "metadata": {
        "id": "peZkINqdPLpc"
      },
      "source": [
        "features_results = citiesTemp.drop(columns=['Region', 'Country', 'City'])\n",
        "labels_results = citiesTemp['Region']\n",
        "\n",
        "X_train, X_test, y_train, y_test = train_test_split(features_results, labels_results, test_size=0.25, shuffle=False)\n",
        "X_train, X_valid, y_train, y_valid =  train_test_split(X_train, y_train, test_size=(1/3), shuffle=False)\n"
      ],
      "execution_count": 8,
      "outputs": []
    },
    {
      "cell_type": "markdown",
      "metadata": {
        "id": "nT4UWuAwQFM4"
      },
      "source": [
        "# **ML Algorithms:**\n"
      ]
    },
    {
      "cell_type": "code",
      "metadata": {
        "colab": {
          "base_uri": "https://localhost:8080/"
        },
        "id": "4qTJafbJvGbs",
        "outputId": "413c40d3-d7d8-4688-c881-bd06c5c604e8"
      },
      "source": [
        "from optuna.integration.mlflow import MLflowCallback\n",
        "mlflc = MLflowCallback(\n",
        "    tracking_uri=mlflow.get_tracking_uri(),\n",
        "    metric_name=\"Accuracy\",\n",
        ")"
      ],
      "execution_count": 5,
      "outputs": [
        {
          "output_type": "stream",
          "text": [
            "/usr/local/lib/python3.7/dist-packages/ipykernel_launcher.py:4: ExperimentalWarning:\n",
            "\n",
            "MLflowCallback is experimental (supported from v1.4.0). The interface can change in the future.\n",
            "\n"
          ],
          "name": "stderr"
        }
      ]
    },
    {
      "cell_type": "markdown",
      "metadata": {
        "id": "YVxgeLZsuQK5"
      },
      "source": [
        "# **Decision Tree**\n"
      ]
    },
    {
      "cell_type": "code",
      "metadata": {
        "colab": {
          "base_uri": "https://localhost:8080/"
        },
        "id": "qovyHcrmZyZX",
        "outputId": "a2bdf0d4-29fc-4259-af5b-f6293067bffd"
      },
      "source": [
        "@mlflc.track_in_mlflow()\n",
        "def decisionTree(trial):\n",
        "    max_depth = trial.suggest_int(\"max_depth\", 1, 20, 1)\n",
        "    split     = trial.suggest_int('min_samples_split', 3, 20, 1)\n",
        "    leaf      = trial.suggest_int('min_samples_leaf', 3, 20, 1)\n",
        "\n",
        "    decisionTree_selection = DecisionTreeClassifier(max_depth=max_depth, min_samples_leaf=leaf, min_samples_split=split)\n",
        "    decisionTree_selection.fit(X_train, y_train)\n",
        "    \n",
        "    prediction_validation = decisionTree_selection.predict(X_valid)\n",
        "    accuracy_validation = accuracy_score(y_valid, prediction_validation)\n",
        "\n",
        "    return accuracy_validation\n",
        "\n",
        "study_dt = optuna.create_study(direction=\"maximize\", study_name=\"Decision Tree\")\n",
        "mlflow.end_run()\n",
        "study_dt.optimize(decisionTree, n_trials=20, callbacks=[mlflc])\n",
        "print(study_dt.best_trial.value)\n",
        "print(study_dt.best_trial.params)"
      ],
      "execution_count": 8,
      "outputs": [
        {
          "output_type": "stream",
          "text": [
            "/usr/local/lib/python3.7/dist-packages/ipykernel_launcher.py:4: ExperimentalWarning:\n",
            "\n",
            "track_in_mlflow is experimental (supported from v2.9.0). The interface can change in the future.\n",
            "\n",
            "\u001b[32m[I 2021-08-16 16:57:23,854]\u001b[0m A new study created in memory with name: Decision Tree\u001b[0m\n",
            "\u001b[32m[I 2021-08-16 16:57:28,968]\u001b[0m Trial 0 finished with value: 0.05788545700702119 and parameters: {'max_depth': 18, 'min_samples_split': 9, 'min_samples_leaf': 7}. Best is trial 0 with value: 0.05788545700702119.\u001b[0m\n",
            "\u001b[32m[I 2021-08-16 16:57:33,131]\u001b[0m Trial 1 finished with value: 0.03802118664685964 and parameters: {'max_depth': 14, 'min_samples_split': 13, 'min_samples_leaf': 10}. Best is trial 0 with value: 0.05788545700702119.\u001b[0m\n",
            "\u001b[32m[I 2021-08-16 16:57:35,473]\u001b[0m Trial 2 finished with value: 0.02786865538353212 and parameters: {'max_depth': 6, 'min_samples_split': 14, 'min_samples_leaf': 10}. Best is trial 0 with value: 0.05788545700702119.\u001b[0m\n",
            "\u001b[32m[I 2021-08-16 16:57:39,148]\u001b[0m Trial 3 finished with value: 0.031048656013235216 and parameters: {'max_depth': 11, 'min_samples_split': 15, 'min_samples_leaf': 5}. Best is trial 0 with value: 0.05788545700702119.\u001b[0m\n",
            "\u001b[32m[I 2021-08-16 16:57:40,845]\u001b[0m Trial 4 finished with value: 0.04920843458672872 and parameters: {'max_depth': 4, 'min_samples_split': 9, 'min_samples_leaf': 7}. Best is trial 0 with value: 0.05788545700702119.\u001b[0m\n",
            "\u001b[32m[I 2021-08-16 16:57:45,780]\u001b[0m Trial 5 finished with value: 0.05968011082774472 and parameters: {'max_depth': 19, 'min_samples_split': 19, 'min_samples_leaf': 17}. Best is trial 5 with value: 0.05968011082774472.\u001b[0m\n",
            "\u001b[32m[I 2021-08-16 16:57:49,737]\u001b[0m Trial 6 finished with value: 0.0385693145681811 and parameters: {'max_depth': 13, 'min_samples_split': 13, 'min_samples_leaf': 18}. Best is trial 5 with value: 0.05968011082774472.\u001b[0m\n",
            "\u001b[32m[I 2021-08-16 16:57:52,373]\u001b[0m Trial 7 finished with value: 0.02872591027875811 and parameters: {'max_depth': 7, 'min_samples_split': 17, 'min_samples_leaf': 12}. Best is trial 5 with value: 0.05968011082774472.\u001b[0m\n",
            "\u001b[32m[I 2021-08-16 16:57:57,393]\u001b[0m Trial 8 finished with value: 0.05792982245235008 and parameters: {'max_depth': 18, 'min_samples_split': 14, 'min_samples_leaf': 3}. Best is trial 5 with value: 0.05968011082774472.\u001b[0m\n",
            "\u001b[32m[I 2021-08-16 16:57:58,338]\u001b[0m Trial 9 finished with value: 0.0 and parameters: {'max_depth': 2, 'min_samples_split': 12, 'min_samples_leaf': 13}. Best is trial 5 with value: 0.05968011082774472.\u001b[0m\n",
            "\u001b[32m[I 2021-08-16 16:58:03,253]\u001b[0m Trial 10 finished with value: 0.06196135340368834 and parameters: {'max_depth': 20, 'min_samples_split': 20, 'min_samples_leaf': 20}. Best is trial 10 with value: 0.06196135340368834.\u001b[0m\n",
            "\u001b[32m[I 2021-08-16 16:58:08,113]\u001b[0m Trial 11 finished with value: 0.06350126369962017 and parameters: {'max_depth': 20, 'min_samples_split': 19, 'min_samples_leaf': 19}. Best is trial 11 with value: 0.06350126369962017.\u001b[0m\n",
            "\u001b[32m[I 2021-08-16 16:58:13,010]\u001b[0m Trial 12 finished with value: 0.06196564683388146 and parameters: {'max_depth': 20, 'min_samples_split': 3, 'min_samples_leaf': 20}. Best is trial 11 with value: 0.06350126369962017.\u001b[0m\n",
            "\u001b[32m[I 2021-08-16 16:58:17,392]\u001b[0m Trial 13 finished with value: 0.046848479123911255 and parameters: {'max_depth': 16, 'min_samples_split': 4, 'min_samples_leaf': 16}. Best is trial 11 with value: 0.06350126369962017.\u001b[0m\n",
            "\u001b[32m[I 2021-08-16 16:58:21,683]\u001b[0m Trial 14 finished with value: 0.04341516611281417 and parameters: {'max_depth': 15, 'min_samples_split': 3, 'min_samples_leaf': 20}. Best is trial 11 with value: 0.06350126369962017.\u001b[0m\n",
            "\u001b[32m[I 2021-08-16 16:58:24,974]\u001b[0m Trial 15 finished with value: 0.0328103935358115 and parameters: {'max_depth': 10, 'min_samples_split': 6, 'min_samples_leaf': 15}. Best is trial 11 with value: 0.06350126369962017.\u001b[0m\n",
            "\u001b[32m[I 2021-08-16 16:58:29,626]\u001b[0m Trial 16 finished with value: 0.051104699588689385 and parameters: {'max_depth': 17, 'min_samples_split': 10, 'min_samples_leaf': 19}. Best is trial 11 with value: 0.06350126369962017.\u001b[0m\n",
            "\u001b[32m[I 2021-08-16 16:58:34,510]\u001b[0m Trial 17 finished with value: 0.06467193899894381 and parameters: {'max_depth': 20, 'min_samples_split': 6, 'min_samples_leaf': 15}. Best is trial 17 with value: 0.06467193899894381.\u001b[0m\n",
            "\u001b[32m[I 2021-08-16 16:58:38,298]\u001b[0m Trial 18 finished with value: 0.03351022265728981 and parameters: {'max_depth': 12, 'min_samples_split': 6, 'min_samples_leaf': 15}. Best is trial 17 with value: 0.06467193899894381.\u001b[0m\n",
            "\u001b[32m[I 2021-08-16 16:58:41,251]\u001b[0m Trial 19 finished with value: 0.02970338121939142 and parameters: {'max_depth': 8, 'min_samples_split': 17, 'min_samples_leaf': 13}. Best is trial 17 with value: 0.06467193899894381.\u001b[0m\n",
            "\u001b[32m[I 2021-08-16 16:58:45,709]\u001b[0m Trial 20 finished with value: 0.04662235846707368 and parameters: {'max_depth': 16, 'min_samples_split': 8, 'min_samples_leaf': 17}. Best is trial 17 with value: 0.06467193899894381.\u001b[0m\n",
            "\u001b[32m[I 2021-08-16 16:58:50,589]\u001b[0m Trial 21 finished with value: 0.0640193376095898 and parameters: {'max_depth': 20, 'min_samples_split': 5, 'min_samples_leaf': 18}. Best is trial 17 with value: 0.06467193899894381.\u001b[0m\n",
            "\u001b[32m[I 2021-08-16 16:58:55,651]\u001b[0m Trial 22 finished with value: 0.064086601349282 and parameters: {'max_depth': 20, 'min_samples_split': 6, 'min_samples_leaf': 18}. Best is trial 17 with value: 0.06467193899894381.\u001b[0m\n",
            "\u001b[32m[I 2021-08-16 16:59:00,395]\u001b[0m Trial 23 finished with value: 0.05664179339441453 and parameters: {'max_depth': 18, 'min_samples_split': 5, 'min_samples_leaf': 15}. Best is trial 17 with value: 0.06467193899894381.\u001b[0m\n",
            "\u001b[32m[I 2021-08-16 16:59:04,929]\u001b[0m Trial 24 finished with value: 0.0466266518972668 and parameters: {'max_depth': 16, 'min_samples_split': 7, 'min_samples_leaf': 17}. Best is trial 17 with value: 0.06467193899894381.\u001b[0m\n",
            "\u001b[32m[I 2021-08-16 16:59:09,875]\u001b[0m Trial 25 finished with value: 0.06548482844884092 and parameters: {'max_depth': 20, 'min_samples_split': 5, 'min_samples_leaf': 14}. Best is trial 25 with value: 0.06548482844884092.\u001b[0m\n",
            "\u001b[32m[I 2021-08-16 16:59:14,573]\u001b[0m Trial 26 finished with value: 0.05670619484731131 and parameters: {'max_depth': 18, 'min_samples_split': 10, 'min_samples_leaf': 14}. Best is trial 25 with value: 0.06548482844884092.\u001b[0m\n",
            "\u001b[32m[I 2021-08-16 16:59:18,681]\u001b[0m Trial 27 finished with value: 0.0381514206960509 and parameters: {'max_depth': 14, 'min_samples_split': 7, 'min_samples_leaf': 11}. Best is trial 25 with value: 0.06548482844884092.\u001b[0m\n",
            "\u001b[32m[I 2021-08-16 16:59:23,302]\u001b[0m Trial 28 finished with value: 0.05119056819255176 and parameters: {'max_depth': 17, 'min_samples_split': 5, 'min_samples_leaf': 14}. Best is trial 25 with value: 0.06548482844884092.\u001b[0m\n",
            "\u001b[32m[I 2021-08-16 16:59:28,202]\u001b[0m Trial 29 finished with value: 0.06231341467952406 and parameters: {'max_depth': 19, 'min_samples_split': 8, 'min_samples_leaf': 9}. Best is trial 25 with value: 0.06548482844884092.\u001b[0m\n",
            "\u001b[32m[I 2021-08-16 16:59:32,807]\u001b[0m Trial 30 finished with value: 0.0517344026836801 and parameters: {'max_depth': 17, 'min_samples_split': 10, 'min_samples_leaf': 16}. Best is trial 25 with value: 0.06548482844884092.\u001b[0m\n",
            "\u001b[32m[I 2021-08-16 16:59:37,727]\u001b[0m Trial 31 finished with value: 0.06404939162094163 and parameters: {'max_depth': 20, 'min_samples_split': 5, 'min_samples_leaf': 18}. Best is trial 25 with value: 0.06548482844884092.\u001b[0m\n",
            "\u001b[32m[I 2021-08-16 16:59:42,591]\u001b[0m Trial 32 finished with value: 0.059621433948438766 and parameters: {'max_depth': 19, 'min_samples_split': 4, 'min_samples_leaf': 18}. Best is trial 25 with value: 0.06548482844884092.\u001b[0m\n",
            "\u001b[32m[I 2021-08-16 16:59:47,368]\u001b[0m Trial 33 finished with value: 0.05984469231848093 and parameters: {'max_depth': 19, 'min_samples_split': 7, 'min_samples_leaf': 16}. Best is trial 25 with value: 0.06548482844884092.\u001b[0m\n",
            "\u001b[32m[I 2021-08-16 16:59:52,038]\u001b[0m Trial 34 finished with value: 0.057208526179906176 and parameters: {'max_depth': 18, 'min_samples_split': 4, 'min_samples_leaf': 13}. Best is trial 25 with value: 0.06548482844884092.\u001b[0m\n",
            "\u001b[32m[I 2021-08-16 16:59:56,348]\u001b[0m Trial 35 finished with value: 0.04456866769136534 and parameters: {'max_depth': 15, 'min_samples_split': 6, 'min_samples_leaf': 14}. Best is trial 25 with value: 0.06548482844884092.\u001b[0m\n",
            "\u001b[32m[I 2021-08-16 17:00:01,340]\u001b[0m Trial 36 finished with value: 0.06628913103835178 and parameters: {'max_depth': 20, 'min_samples_split': 8, 'min_samples_leaf': 11}. Best is trial 36 with value: 0.06628913103835178.\u001b[0m\n",
            "\u001b[32m[I 2021-08-16 17:00:01,966]\u001b[0m Trial 37 finished with value: 0.0 and parameters: {'max_depth': 1, 'min_samples_split': 8, 'min_samples_leaf': 9}. Best is trial 36 with value: 0.06628913103835178.\u001b[0m\n",
            "\u001b[32m[I 2021-08-16 17:00:05,160]\u001b[0m Trial 38 finished with value: 0.02060560264017334 and parameters: {'max_depth': 9, 'min_samples_split': 9, 'min_samples_leaf': 11}. Best is trial 36 with value: 0.06628913103835178.\u001b[0m\n",
            "\u001b[32m[I 2021-08-16 17:00:07,201]\u001b[0m Trial 39 finished with value: 0.03941082688603233 and parameters: {'max_depth': 5, 'min_samples_split': 11, 'min_samples_leaf': 9}. Best is trial 36 with value: 0.06628913103835178.\u001b[0m\n",
            "\u001b[32m[I 2021-08-16 17:00:11,319]\u001b[0m Trial 40 finished with value: 0.038177181277209614 and parameters: {'max_depth': 14, 'min_samples_split': 7, 'min_samples_leaf': 6}. Best is trial 36 with value: 0.06628913103835178.\u001b[0m\n",
            "\u001b[32m[I 2021-08-16 17:00:16,322]\u001b[0m Trial 41 finished with value: 0.06664977917457374 and parameters: {'max_depth': 20, 'min_samples_split': 5, 'min_samples_leaf': 10}. Best is trial 41 with value: 0.06664977917457374.\u001b[0m\n",
            "\u001b[32m[I 2021-08-16 17:00:21,256]\u001b[0m Trial 42 finished with value: 0.06168657387132876 and parameters: {'max_depth': 19, 'min_samples_split': 6, 'min_samples_leaf': 10}. Best is trial 41 with value: 0.06664977917457374.\u001b[0m\n",
            "\u001b[32m[I 2021-08-16 17:00:26,314]\u001b[0m Trial 43 finished with value: 0.06634351448746462 and parameters: {'max_depth': 20, 'min_samples_split': 3, 'min_samples_leaf': 12}. Best is trial 41 with value: 0.06664977917457374.\u001b[0m\n",
            "\u001b[32m[I 2021-08-16 17:00:30,872]\u001b[0m Trial 44 finished with value: 0.05169003723835121 and parameters: {'max_depth': 17, 'min_samples_split': 3, 'min_samples_leaf': 12}. Best is trial 41 with value: 0.06664977917457374.\u001b[0m\n",
            "\u001b[32m[I 2021-08-16 17:00:35,735]\u001b[0m Trial 45 finished with value: 0.057454682844311634 and parameters: {'max_depth': 18, 'min_samples_split': 4, 'min_samples_leaf': 8}. Best is trial 41 with value: 0.06664977917457374.\u001b[0m\n",
            "\u001b[32m[I 2021-08-16 17:00:40,710]\u001b[0m Trial 46 finished with value: 0.06625192131001142 and parameters: {'max_depth': 20, 'min_samples_split': 3, 'min_samples_leaf': 11}. Best is trial 41 with value: 0.06664977917457374.\u001b[0m\n",
            "\u001b[32m[I 2021-08-16 17:00:45,632]\u001b[0m Trial 47 finished with value: 0.06173809503364618 and parameters: {'max_depth': 19, 'min_samples_split': 3, 'min_samples_leaf': 10}. Best is trial 41 with value: 0.06664977917457374.\u001b[0m\n",
            "\u001b[32m[I 2021-08-16 17:00:50,584]\u001b[0m Trial 48 finished with value: 0.0663606882082371 and parameters: {'max_depth': 20, 'min_samples_split': 4, 'min_samples_leaf': 12}. Best is trial 41 with value: 0.06664977917457374.\u001b[0m\n",
            "\u001b[32m[I 2021-08-16 17:00:55,318]\u001b[0m Trial 49 finished with value: 0.057760947531420755 and parameters: {'max_depth': 18, 'min_samples_split': 3, 'min_samples_leaf': 12}. Best is trial 41 with value: 0.06664977917457374.\u001b[0m\n"
          ],
          "name": "stderr"
        },
        {
          "output_type": "stream",
          "text": [
            "0.06664977917457374\n",
            "{'max_depth': 20, 'min_samples_split': 5, 'min_samples_leaf': 10}\n"
          ],
          "name": "stdout"
        }
      ]
    },
    {
      "cell_type": "markdown",
      "metadata": {
        "id": "FQHUY8knwbln"
      },
      "source": [
        "# **MLP**"
      ]
    },
    {
      "cell_type": "code",
      "metadata": {
        "colab": {
          "base_uri": "https://localhost:8080/",
          "height": 544
        },
        "id": "S2Pr_ZpCwjkp",
        "outputId": "7a7bb4f5-b194-4735-f072-a3f6ba32b639"
      },
      "source": [
        "\n",
        "@mlflc.track_in_mlflow()\n",
        "def MLP(trial):\n",
        "    layer_size = trial.suggest_int('hidden_layer_sizes', 10, 1000, 10)\n",
        "    activation = trial.suggest_categorical('activation', ['logistic', 'relu', 'tanh'])\n",
        "    solver = trial.suggest_categorical('solver', ['adam', 'sgd'])\n",
        "    mlp_selection = MLPClassifier(layer_size, activation=activation, solver=solver)\n",
        "    mlp_selection.fit(X_train, y_train)     \n",
        "\n",
        "    prediction_validation = mlp_selection.predict(X_valid)\n",
        "    accuracy_validation = accuracy_score(y_valid, prediction_validation)\n",
        "\n",
        "    return accuracy_validation\n",
        "\n",
        "study_mlp = optuna.create_study(direction=\"maximize\", study_name=\"MLP\")\n",
        "mlflow.end_run()\n",
        "study_mlp.optimize(MLP, n_trials=20, callbacks=[mlflc])\n",
        "print(study_mlp.best_trial.value)\n",
        "print(study_mlp.best_trial.params)\n"
      ],
      "execution_count": null,
      "outputs": [
        {
          "output_type": "stream",
          "text": [
            "/usr/local/lib/python3.7/dist-packages/ipykernel_launcher.py:2: ExperimentalWarning:\n",
            "\n",
            "track_in_mlflow is experimental (supported from v2.9.0). The interface can change in the future.\n",
            "\n",
            "\u001b[32m[I 2021-08-16 17:01:12,060]\u001b[0m A new study created in memory with name: MLP\u001b[0m\n"
          ],
          "name": "stderr"
        },
        {
          "output_type": "stream",
          "text": [
            "INFO: 'MLP' does not exist. Creating a new experiment\n"
          ],
          "name": "stdout"
        },
        {
          "output_type": "stream",
          "text": [
            "/usr/local/lib/python3.7/dist-packages/sklearn/neural_network/_multilayer_perceptron.py:573: UserWarning:\n",
            "\n",
            "Training interrupted by user.\n",
            "\n"
          ],
          "name": "stderr"
        },
        {
          "output_type": "error",
          "ename": "KeyboardInterrupt",
          "evalue": "ignored",
          "traceback": [
            "\u001b[0;31m---------------------------------------------------------------------------\u001b[0m",
            "\u001b[0;31mKeyboardInterrupt\u001b[0m                         Traceback (most recent call last)",
            "\u001b[0;32m<ipython-input-9-8d54e2e97d0f>\u001b[0m in \u001b[0;36m<module>\u001b[0;34m()\u001b[0m\n\u001b[1;32m     15\u001b[0m \u001b[0mstudy_mlp\u001b[0m \u001b[0;34m=\u001b[0m \u001b[0moptuna\u001b[0m\u001b[0;34m.\u001b[0m\u001b[0mcreate_study\u001b[0m\u001b[0;34m(\u001b[0m\u001b[0mdirection\u001b[0m\u001b[0;34m=\u001b[0m\u001b[0;34m\"maximize\"\u001b[0m\u001b[0;34m,\u001b[0m \u001b[0mstudy_name\u001b[0m\u001b[0;34m=\u001b[0m\u001b[0;34m\"MLP\"\u001b[0m\u001b[0;34m)\u001b[0m\u001b[0;34m\u001b[0m\u001b[0;34m\u001b[0m\u001b[0m\n\u001b[1;32m     16\u001b[0m \u001b[0mmlflow\u001b[0m\u001b[0;34m.\u001b[0m\u001b[0mend_run\u001b[0m\u001b[0;34m(\u001b[0m\u001b[0;34m)\u001b[0m\u001b[0;34m\u001b[0m\u001b[0;34m\u001b[0m\u001b[0m\n\u001b[0;32m---> 17\u001b[0;31m \u001b[0mstudy_mlp\u001b[0m\u001b[0;34m.\u001b[0m\u001b[0moptimize\u001b[0m\u001b[0;34m(\u001b[0m\u001b[0mobjective_MLP\u001b[0m\u001b[0;34m,\u001b[0m \u001b[0mn_trials\u001b[0m\u001b[0;34m=\u001b[0m\u001b[0;36m50\u001b[0m\u001b[0;34m,\u001b[0m \u001b[0mcallbacks\u001b[0m\u001b[0;34m=\u001b[0m\u001b[0;34m[\u001b[0m\u001b[0mmlflc\u001b[0m\u001b[0;34m]\u001b[0m\u001b[0;34m)\u001b[0m\u001b[0;34m\u001b[0m\u001b[0;34m\u001b[0m\u001b[0m\n\u001b[0m\u001b[1;32m     18\u001b[0m \u001b[0mprint\u001b[0m\u001b[0;34m(\u001b[0m\u001b[0mstudy_mlp\u001b[0m\u001b[0;34m.\u001b[0m\u001b[0mbest_trial\u001b[0m\u001b[0;34m.\u001b[0m\u001b[0mvalue\u001b[0m\u001b[0;34m)\u001b[0m\u001b[0;34m\u001b[0m\u001b[0;34m\u001b[0m\u001b[0m\n\u001b[1;32m     19\u001b[0m \u001b[0mprint\u001b[0m\u001b[0;34m(\u001b[0m\u001b[0mstudy_mlp\u001b[0m\u001b[0;34m.\u001b[0m\u001b[0mbest_trial\u001b[0m\u001b[0;34m.\u001b[0m\u001b[0mparams\u001b[0m\u001b[0;34m)\u001b[0m\u001b[0;34m\u001b[0m\u001b[0;34m\u001b[0m\u001b[0m\n",
            "\u001b[0;32m/usr/local/lib/python3.7/dist-packages/optuna/study/study.py\u001b[0m in \u001b[0;36moptimize\u001b[0;34m(self, func, n_trials, timeout, n_jobs, catch, callbacks, gc_after_trial, show_progress_bar)\u001b[0m\n\u001b[1;32m    407\u001b[0m             \u001b[0mcallbacks\u001b[0m\u001b[0;34m=\u001b[0m\u001b[0mcallbacks\u001b[0m\u001b[0;34m,\u001b[0m\u001b[0;34m\u001b[0m\u001b[0;34m\u001b[0m\u001b[0m\n\u001b[1;32m    408\u001b[0m             \u001b[0mgc_after_trial\u001b[0m\u001b[0;34m=\u001b[0m\u001b[0mgc_after_trial\u001b[0m\u001b[0;34m,\u001b[0m\u001b[0;34m\u001b[0m\u001b[0;34m\u001b[0m\u001b[0m\n\u001b[0;32m--> 409\u001b[0;31m             \u001b[0mshow_progress_bar\u001b[0m\u001b[0;34m=\u001b[0m\u001b[0mshow_progress_bar\u001b[0m\u001b[0;34m,\u001b[0m\u001b[0;34m\u001b[0m\u001b[0;34m\u001b[0m\u001b[0m\n\u001b[0m\u001b[1;32m    410\u001b[0m         )\n\u001b[1;32m    411\u001b[0m \u001b[0;34m\u001b[0m\u001b[0m\n",
            "\u001b[0;32m/usr/local/lib/python3.7/dist-packages/optuna/study/_optimize.py\u001b[0m in \u001b[0;36m_optimize\u001b[0;34m(study, func, n_trials, timeout, n_jobs, catch, callbacks, gc_after_trial, show_progress_bar)\u001b[0m\n\u001b[1;32m     74\u001b[0m                 \u001b[0mreseed_sampler_rng\u001b[0m\u001b[0;34m=\u001b[0m\u001b[0;32mFalse\u001b[0m\u001b[0;34m,\u001b[0m\u001b[0;34m\u001b[0m\u001b[0;34m\u001b[0m\u001b[0m\n\u001b[1;32m     75\u001b[0m                 \u001b[0mtime_start\u001b[0m\u001b[0;34m=\u001b[0m\u001b[0;32mNone\u001b[0m\u001b[0;34m,\u001b[0m\u001b[0;34m\u001b[0m\u001b[0;34m\u001b[0m\u001b[0m\n\u001b[0;32m---> 76\u001b[0;31m                 \u001b[0mprogress_bar\u001b[0m\u001b[0;34m=\u001b[0m\u001b[0mprogress_bar\u001b[0m\u001b[0;34m,\u001b[0m\u001b[0;34m\u001b[0m\u001b[0;34m\u001b[0m\u001b[0m\n\u001b[0m\u001b[1;32m     77\u001b[0m             )\n\u001b[1;32m     78\u001b[0m         \u001b[0;32melse\u001b[0m\u001b[0;34m:\u001b[0m\u001b[0;34m\u001b[0m\u001b[0;34m\u001b[0m\u001b[0m\n",
            "\u001b[0;32m/usr/local/lib/python3.7/dist-packages/optuna/study/_optimize.py\u001b[0m in \u001b[0;36m_optimize_sequential\u001b[0;34m(study, func, n_trials, timeout, catch, callbacks, gc_after_trial, reseed_sampler_rng, time_start, progress_bar)\u001b[0m\n\u001b[1;32m    161\u001b[0m \u001b[0;34m\u001b[0m\u001b[0m\n\u001b[1;32m    162\u001b[0m         \u001b[0;32mtry\u001b[0m\u001b[0;34m:\u001b[0m\u001b[0;34m\u001b[0m\u001b[0;34m\u001b[0m\u001b[0m\n\u001b[0;32m--> 163\u001b[0;31m             \u001b[0mtrial\u001b[0m \u001b[0;34m=\u001b[0m \u001b[0m_run_trial\u001b[0m\u001b[0;34m(\u001b[0m\u001b[0mstudy\u001b[0m\u001b[0;34m,\u001b[0m \u001b[0mfunc\u001b[0m\u001b[0;34m,\u001b[0m \u001b[0mcatch\u001b[0m\u001b[0;34m)\u001b[0m\u001b[0;34m\u001b[0m\u001b[0;34m\u001b[0m\u001b[0m\n\u001b[0m\u001b[1;32m    164\u001b[0m         \u001b[0;32mexcept\u001b[0m \u001b[0mException\u001b[0m\u001b[0;34m:\u001b[0m\u001b[0;34m\u001b[0m\u001b[0;34m\u001b[0m\u001b[0m\n\u001b[1;32m    165\u001b[0m             \u001b[0;32mraise\u001b[0m\u001b[0;34m\u001b[0m\u001b[0;34m\u001b[0m\u001b[0m\n",
            "\u001b[0;32m/usr/local/lib/python3.7/dist-packages/optuna/study/_optimize.py\u001b[0m in \u001b[0;36m_run_trial\u001b[0;34m(study, func, catch)\u001b[0m\n\u001b[1;32m    211\u001b[0m \u001b[0;34m\u001b[0m\u001b[0m\n\u001b[1;32m    212\u001b[0m     \u001b[0;32mtry\u001b[0m\u001b[0;34m:\u001b[0m\u001b[0;34m\u001b[0m\u001b[0;34m\u001b[0m\u001b[0m\n\u001b[0;32m--> 213\u001b[0;31m         \u001b[0mvalue_or_values\u001b[0m \u001b[0;34m=\u001b[0m \u001b[0mfunc\u001b[0m\u001b[0;34m(\u001b[0m\u001b[0mtrial\u001b[0m\u001b[0;34m)\u001b[0m\u001b[0;34m\u001b[0m\u001b[0;34m\u001b[0m\u001b[0m\n\u001b[0m\u001b[1;32m    214\u001b[0m     \u001b[0;32mexcept\u001b[0m \u001b[0mexceptions\u001b[0m\u001b[0;34m.\u001b[0m\u001b[0mTrialPruned\u001b[0m \u001b[0;32mas\u001b[0m \u001b[0me\u001b[0m\u001b[0;34m:\u001b[0m\u001b[0;34m\u001b[0m\u001b[0;34m\u001b[0m\u001b[0m\n\u001b[1;32m    215\u001b[0m         \u001b[0;31m# TODO(mamu): Handle multi-objective cases.\u001b[0m\u001b[0;34m\u001b[0m\u001b[0;34m\u001b[0m\u001b[0;34m\u001b[0m\u001b[0m\n",
            "\u001b[0;32m/usr/local/lib/python3.7/dist-packages/optuna/integration/mlflow.py\u001b[0m in \u001b[0;36mwrapper\u001b[0;34m(trial)\u001b[0m\n\u001b[1;32m    180\u001b[0m                     \u001b[0mtrial\u001b[0m\u001b[0;34m.\u001b[0m\u001b[0mset_system_attr\u001b[0m\u001b[0;34m(\u001b[0m\u001b[0mRUN_ID_ATTRIBUTE_KEY\u001b[0m\u001b[0;34m,\u001b[0m \u001b[0mrun\u001b[0m\u001b[0;34m.\u001b[0m\u001b[0minfo\u001b[0m\u001b[0;34m.\u001b[0m\u001b[0mrun_id\u001b[0m\u001b[0;34m)\u001b[0m\u001b[0;34m\u001b[0m\u001b[0;34m\u001b[0m\u001b[0m\n\u001b[1;32m    181\u001b[0m \u001b[0;34m\u001b[0m\u001b[0m\n\u001b[0;32m--> 182\u001b[0;31m                     \u001b[0;32mreturn\u001b[0m \u001b[0mfunc\u001b[0m\u001b[0;34m(\u001b[0m\u001b[0mtrial\u001b[0m\u001b[0;34m)\u001b[0m\u001b[0;34m\u001b[0m\u001b[0;34m\u001b[0m\u001b[0m\n\u001b[0m\u001b[1;32m    183\u001b[0m \u001b[0;34m\u001b[0m\u001b[0m\n\u001b[1;32m    184\u001b[0m             \u001b[0;32mreturn\u001b[0m \u001b[0mwrapper\u001b[0m\u001b[0;34m\u001b[0m\u001b[0;34m\u001b[0m\u001b[0m\n",
            "\u001b[0;32m<ipython-input-9-8d54e2e97d0f>\u001b[0m in \u001b[0;36mobjective_MLP\u001b[0;34m(trial)\u001b[0m\n\u001b[1;32m      8\u001b[0m     \u001b[0mmlp_selection\u001b[0m\u001b[0;34m.\u001b[0m\u001b[0mfit\u001b[0m\u001b[0;34m(\u001b[0m\u001b[0mX_train\u001b[0m\u001b[0;34m,\u001b[0m \u001b[0my_train\u001b[0m\u001b[0;34m)\u001b[0m\u001b[0;34m\u001b[0m\u001b[0;34m\u001b[0m\u001b[0m\n\u001b[1;32m      9\u001b[0m \u001b[0;34m\u001b[0m\u001b[0m\n\u001b[0;32m---> 10\u001b[0;31m     \u001b[0mprediction_validation\u001b[0m \u001b[0;34m=\u001b[0m \u001b[0mmlp_selection\u001b[0m\u001b[0;34m.\u001b[0m\u001b[0mpredict\u001b[0m\u001b[0;34m(\u001b[0m\u001b[0mX_valid\u001b[0m\u001b[0;34m)\u001b[0m\u001b[0;34m\u001b[0m\u001b[0;34m\u001b[0m\u001b[0m\n\u001b[0m\u001b[1;32m     11\u001b[0m     \u001b[0maccuracy_validation\u001b[0m \u001b[0;34m=\u001b[0m \u001b[0maccuracy_score\u001b[0m\u001b[0;34m(\u001b[0m\u001b[0my_valid\u001b[0m\u001b[0;34m,\u001b[0m \u001b[0mprediction_validation\u001b[0m\u001b[0;34m)\u001b[0m\u001b[0;34m\u001b[0m\u001b[0;34m\u001b[0m\u001b[0m\n\u001b[1;32m     12\u001b[0m \u001b[0;34m\u001b[0m\u001b[0m\n",
            "\u001b[0;32m/usr/local/lib/python3.7/dist-packages/sklearn/neural_network/_multilayer_perceptron.py\u001b[0m in \u001b[0;36mpredict\u001b[0;34m(self, X)\u001b[0m\n\u001b[1;32m    969\u001b[0m         \"\"\"\n\u001b[1;32m    970\u001b[0m         \u001b[0mcheck_is_fitted\u001b[0m\u001b[0;34m(\u001b[0m\u001b[0mself\u001b[0m\u001b[0;34m)\u001b[0m\u001b[0;34m\u001b[0m\u001b[0;34m\u001b[0m\u001b[0m\n\u001b[0;32m--> 971\u001b[0;31m         \u001b[0my_pred\u001b[0m \u001b[0;34m=\u001b[0m \u001b[0mself\u001b[0m\u001b[0;34m.\u001b[0m\u001b[0m_predict\u001b[0m\u001b[0;34m(\u001b[0m\u001b[0mX\u001b[0m\u001b[0;34m)\u001b[0m\u001b[0;34m\u001b[0m\u001b[0;34m\u001b[0m\u001b[0m\n\u001b[0m\u001b[1;32m    972\u001b[0m \u001b[0;34m\u001b[0m\u001b[0m\n\u001b[1;32m    973\u001b[0m         \u001b[0;32mif\u001b[0m \u001b[0mself\u001b[0m\u001b[0;34m.\u001b[0m\u001b[0mn_outputs_\u001b[0m \u001b[0;34m==\u001b[0m \u001b[0;36m1\u001b[0m\u001b[0;34m:\u001b[0m\u001b[0;34m\u001b[0m\u001b[0;34m\u001b[0m\u001b[0m\n",
            "\u001b[0;32m/usr/local/lib/python3.7/dist-packages/sklearn/neural_network/_multilayer_perceptron.py\u001b[0m in \u001b[0;36m_predict\u001b[0;34m(self, X)\u001b[0m\n\u001b[1;32m    683\u001b[0m                                          layer_units[i + 1])))\n\u001b[1;32m    684\u001b[0m         \u001b[0;31m# forward propagate\u001b[0m\u001b[0;34m\u001b[0m\u001b[0;34m\u001b[0m\u001b[0;34m\u001b[0m\u001b[0m\n\u001b[0;32m--> 685\u001b[0;31m         \u001b[0mself\u001b[0m\u001b[0;34m.\u001b[0m\u001b[0m_forward_pass\u001b[0m\u001b[0;34m(\u001b[0m\u001b[0mactivations\u001b[0m\u001b[0;34m)\u001b[0m\u001b[0;34m\u001b[0m\u001b[0;34m\u001b[0m\u001b[0m\n\u001b[0m\u001b[1;32m    686\u001b[0m         \u001b[0my_pred\u001b[0m \u001b[0;34m=\u001b[0m \u001b[0mactivations\u001b[0m\u001b[0;34m[\u001b[0m\u001b[0;34m-\u001b[0m\u001b[0;36m1\u001b[0m\u001b[0;34m]\u001b[0m\u001b[0;34m\u001b[0m\u001b[0;34m\u001b[0m\u001b[0m\n\u001b[1;32m    687\u001b[0m \u001b[0;34m\u001b[0m\u001b[0m\n",
            "\u001b[0;32m/usr/local/lib/python3.7/dist-packages/sklearn/neural_network/_multilayer_perceptron.py\u001b[0m in \u001b[0;36m_forward_pass\u001b[0;34m(self, activations)\u001b[0m\n\u001b[1;32m    102\u001b[0m         \u001b[0;32mfor\u001b[0m \u001b[0mi\u001b[0m \u001b[0;32min\u001b[0m \u001b[0mrange\u001b[0m\u001b[0;34m(\u001b[0m\u001b[0mself\u001b[0m\u001b[0;34m.\u001b[0m\u001b[0mn_layers_\u001b[0m \u001b[0;34m-\u001b[0m \u001b[0;36m1\u001b[0m\u001b[0;34m)\u001b[0m\u001b[0;34m:\u001b[0m\u001b[0;34m\u001b[0m\u001b[0;34m\u001b[0m\u001b[0m\n\u001b[1;32m    103\u001b[0m             activations[i + 1] = safe_sparse_dot(activations[i],\n\u001b[0;32m--> 104\u001b[0;31m                                                  self.coefs_[i])\n\u001b[0m\u001b[1;32m    105\u001b[0m             \u001b[0mactivations\u001b[0m\u001b[0;34m[\u001b[0m\u001b[0mi\u001b[0m \u001b[0;34m+\u001b[0m \u001b[0;36m1\u001b[0m\u001b[0;34m]\u001b[0m \u001b[0;34m+=\u001b[0m \u001b[0mself\u001b[0m\u001b[0;34m.\u001b[0m\u001b[0mintercepts_\u001b[0m\u001b[0;34m[\u001b[0m\u001b[0mi\u001b[0m\u001b[0;34m]\u001b[0m\u001b[0;34m\u001b[0m\u001b[0;34m\u001b[0m\u001b[0m\n\u001b[1;32m    106\u001b[0m \u001b[0;34m\u001b[0m\u001b[0m\n",
            "\u001b[0;32m/usr/local/lib/python3.7/dist-packages/sklearn/utils/extmath.py\u001b[0m in \u001b[0;36msafe_sparse_dot\u001b[0;34m(a, b, dense_output)\u001b[0m\n\u001b[1;32m    149\u001b[0m             \u001b[0mret\u001b[0m \u001b[0;34m=\u001b[0m \u001b[0mnp\u001b[0m\u001b[0;34m.\u001b[0m\u001b[0mdot\u001b[0m\u001b[0;34m(\u001b[0m\u001b[0ma\u001b[0m\u001b[0;34m,\u001b[0m \u001b[0mb\u001b[0m\u001b[0;34m)\u001b[0m\u001b[0;34m\u001b[0m\u001b[0;34m\u001b[0m\u001b[0m\n\u001b[1;32m    150\u001b[0m     \u001b[0;32melse\u001b[0m\u001b[0;34m:\u001b[0m\u001b[0;34m\u001b[0m\u001b[0;34m\u001b[0m\u001b[0m\n\u001b[0;32m--> 151\u001b[0;31m         \u001b[0mret\u001b[0m \u001b[0;34m=\u001b[0m \u001b[0ma\u001b[0m \u001b[0;34m@\u001b[0m \u001b[0mb\u001b[0m\u001b[0;34m\u001b[0m\u001b[0;34m\u001b[0m\u001b[0m\n\u001b[0m\u001b[1;32m    152\u001b[0m \u001b[0;34m\u001b[0m\u001b[0m\n\u001b[1;32m    153\u001b[0m     if (sparse.issparse(a) and sparse.issparse(b)\n",
            "\u001b[0;31mKeyboardInterrupt\u001b[0m: "
          ]
        }
      ]
    },
    {
      "cell_type": "markdown",
      "metadata": {
        "id": "kX7cRLFmxVda"
      },
      "source": [
        "# **KMN**"
      ]
    },
    {
      "cell_type": "code",
      "metadata": {
        "id": "jT3Svk2czn79"
      },
      "source": [
        "@mlflc.track_in_mlflow()\n",
        "def KNN(trial):\n",
        "    n_neighbors = trial.suggest_int('n_neighbors', 5 , 500)\n",
        "    knn_selection = KNeighborsClassifier(n_neighbors)\n",
        "    knn_selection.fit(X_train, y_train)     \n",
        "\n",
        "    prediction_validation = knn_selection.predict(X_valid)\n",
        "    accuracy_validation = accuracy_score(y_valid, prediction_validation)\n",
        "\n",
        "    return accuracy_validation\n",
        "\n",
        "study_knn = optuna.create_study(direction=\"maximize\", study_name=\"KNN\")\n",
        "mlflow.end_run()\n",
        "study_knn.optimize(KNN, n_trials=20, callbacks=[mlflc])\n",
        "print(study_knn.best_trial.value)\n",
        "print(study_knn.best_trial.params)"
      ],
      "execution_count": null,
      "outputs": []
    },
    {
      "cell_type": "markdown",
      "metadata": {
        "id": "dpQN9AzGu6wM"
      },
      "source": [
        "# **Naive Bayes**\n"
      ]
    },
    {
      "cell_type": "code",
      "metadata": {
        "id": "6XmGtKDtuN3N"
      },
      "source": [
        "@mlflc.track_in_mlflow()\n",
        "def naiveBayes(trial):\n",
        "    nb_var_smoothing = trial.suggest_float('var_smoothing', 1e-9, 1e9, log=True)\n",
        "\n",
        "    naiveBayes_selection = GaussianNB(var_smoothing=nb_var_smoothing)\n",
        "    naiveBayes_selection.fit(X_train, y_train)     \n",
        "\n",
        "    prediction_validation = naiveBayes_selection.predict(X_valid)\n",
        "    accuracy_validation = accuracy_score(y_valid, prediction_validation)\n",
        "\n",
        "    return accuracy_validation\n",
        "\n",
        "study_nb = optuna.create_study(direction=\"maximize\", study_name=\"Neive Bayes\")\n",
        "mlflow.end_run()\n",
        "study_nb.optimize(naiveBayes, n_trials=20, callbacks=[mlflc])\n",
        "print(study_nb.best_trial.value)\n",
        "print(study_nb.best_trial.params)"
      ],
      "execution_count": null,
      "outputs": []
    },
    {
      "cell_type": "markdown",
      "metadata": {
        "id": "3oQjsE8M9sSO"
      },
      "source": [
        "# **Diagnosis**\n",
        "\n",
        "\n",
        "\n",
        "*   Decision Tree algorithm has the best accuracy for the problem\n",
        "\n"
      ]
    },
    {
      "cell_type": "code",
      "metadata": {
        "colab": {
          "base_uri": "https://localhost:8080/",
          "height": 435
        },
        "id": "-qJJCYhD-FfW",
        "outputId": "f713df71-7f99-4d1f-dbd8-8b7cfdca5af8"
      },
      "source": [
        "max_depth = 20\n",
        "split     = 5\n",
        "leaf      = 10\n",
        "\n",
        "decisionTree_selection = DecisionTreeClassifier(max_depth=max_depth, min_samples_leaf=leaf, min_samples_split=split)\n",
        "decisionTree_selection.fit(X_train, y_train)\n",
        "\n",
        "y_test_prediction   = decisionTree_selection.predict(X_test)\n",
        "accuracy_validation = accuracy_score(y_test, y_test_prediction)\n",
        "\n",
        "confusionMatrix = confusion_matrix(y_test, y_test_prediction)\n",
        "\n",
        "sns.heatmap(confusionMatrix.T, square=True, annot=True, fmt='d', cbar=False)\n",
        "plt.xlabel('Real')\n",
        "plt.ylabel('Predict');"
      ],
      "execution_count": 11,
      "outputs": [
        {
          "output_type": "execute_result",
          "data": {
            "text/html": [
              "<div>\n",
              "<style scoped>\n",
              "    .dataframe tbody tr th:only-of-type {\n",
              "        vertical-align: middle;\n",
              "    }\n",
              "\n",
              "    .dataframe tbody tr th {\n",
              "        vertical-align: top;\n",
              "    }\n",
              "\n",
              "    .dataframe thead th {\n",
              "        text-align: right;\n",
              "    }\n",
              "</style>\n",
              "<table border=\"1\" class=\"dataframe\">\n",
              "  <thead>\n",
              "    <tr style=\"text-align: right;\">\n",
              "      <th></th>\n",
              "      <th>column</th>\n",
              "      <th>column_importance</th>\n",
              "    </tr>\n",
              "  </thead>\n",
              "  <tbody>\n",
              "    <tr>\n",
              "      <th>0</th>\n",
              "      <td>AvgTemperature</td>\n",
              "      <td>0.579540</td>\n",
              "    </tr>\n",
              "    <tr>\n",
              "      <th>1</th>\n",
              "      <td>Month</td>\n",
              "      <td>0.172789</td>\n",
              "    </tr>\n",
              "    <tr>\n",
              "      <th>2</th>\n",
              "      <td>Year</td>\n",
              "      <td>0.124933</td>\n",
              "    </tr>\n",
              "    <tr>\n",
              "      <th>3</th>\n",
              "      <td>Day</td>\n",
              "      <td>0.122737</td>\n",
              "    </tr>\n",
              "  </tbody>\n",
              "</table>\n",
              "</div>"
            ],
            "text/plain": [
              "           column  column_importance\n",
              "0  AvgTemperature           0.579540\n",
              "1           Month           0.172789\n",
              "2            Year           0.124933\n",
              "3             Day           0.122737"
            ]
          },
          "metadata": {
            "tags": []
          },
          "execution_count": 11
        },
        {
          "output_type": "display_data",
          "data": {
            "image/png": "[encoded data removed]",
            "text/plain": [
              "<Figure size 432x288 with 1 Axes>"
            ]
          },
          "metadata": {
            "tags": [],
            "needs_background": "light"
          }
        }
      ]
    },
    {
      "cell_type": "code",
      "metadata": {
        "colab": {
          "base_uri": "https://localhost:8080/",
          "height": 173
        },
        "id": "uSCeuaV4_N6B",
        "outputId": "2a257835-fdfe-467d-ba9a-3ace32132259"
      },
      "source": [
        "column_importance = pd.DataFrame({'column': X_train.columns, 'column_importance': decisionTree_selection.feature_importances_})\n",
        "column_importance = column_importance.sort_values('column_importance', ascending=False).reset_index(drop=True)\n",
        "column_importance"
      ],
      "execution_count": 12,
      "outputs": [
        {
          "output_type": "execute_result",
          "data": {
            "text/html": [
              "<div>\n",
              "<style scoped>\n",
              "    .dataframe tbody tr th:only-of-type {\n",
              "        vertical-align: middle;\n",
              "    }\n",
              "\n",
              "    .dataframe tbody tr th {\n",
              "        vertical-align: top;\n",
              "    }\n",
              "\n",
              "    .dataframe thead th {\n",
              "        text-align: right;\n",
              "    }\n",
              "</style>\n",
              "<table border=\"1\" class=\"dataframe\">\n",
              "  <thead>\n",
              "    <tr style=\"text-align: right;\">\n",
              "      <th></th>\n",
              "      <th>column</th>\n",
              "      <th>column_importance</th>\n",
              "    </tr>\n",
              "  </thead>\n",
              "  <tbody>\n",
              "    <tr>\n",
              "      <th>0</th>\n",
              "      <td>AvgTemperature</td>\n",
              "      <td>0.579540</td>\n",
              "    </tr>\n",
              "    <tr>\n",
              "      <th>1</th>\n",
              "      <td>Month</td>\n",
              "      <td>0.172789</td>\n",
              "    </tr>\n",
              "    <tr>\n",
              "      <th>2</th>\n",
              "      <td>Year</td>\n",
              "      <td>0.124933</td>\n",
              "    </tr>\n",
              "    <tr>\n",
              "      <th>3</th>\n",
              "      <td>Day</td>\n",
              "      <td>0.122737</td>\n",
              "    </tr>\n",
              "  </tbody>\n",
              "</table>\n",
              "</div>"
            ],
            "text/plain": [
              "           column  column_importance\n",
              "0  AvgTemperature           0.579540\n",
              "1           Month           0.172789\n",
              "2            Year           0.124933\n",
              "3             Day           0.122737"
            ]
          },
          "metadata": {
            "tags": []
          },
          "execution_count": 12
        }
      ]
    }
  ]
}